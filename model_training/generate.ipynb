{
 "cells": [
  {
   "cell_type": "code",
   "execution_count": 1,
   "metadata": {},
   "outputs": [],
   "source": [
    "import os\n",
    "os.environ[\"CUDA_VISIBLE_DEVICES\"] = \"3\" \n",
    "\n",
    "import torch"
   ]
  },
  {
   "cell_type": "code",
   "execution_count": 2,
   "metadata": {},
   "outputs": [
    {
     "data": {
      "text/plain": [
       "True"
      ]
     },
     "execution_count": 2,
     "metadata": {},
     "output_type": "execute_result"
    }
   ],
   "source": [
    "torch.cuda.is_available()"
   ]
  },
  {
   "cell_type": "code",
   "execution_count": 3,
   "metadata": {},
   "outputs": [
    {
     "data": {
      "text/plain": [
       "0"
      ]
     },
     "execution_count": 3,
     "metadata": {},
     "output_type": "execute_result"
    }
   ],
   "source": [
    "torch.cuda.current_device()"
   ]
  },
  {
   "cell_type": "code",
   "execution_count": 4,
   "metadata": {},
   "outputs": [
    {
     "name": "stderr",
     "output_type": "stream",
     "text": [
      "/home/savkin/MIPT/congnitive_technologies/9sem/python_project/env/lib/python3.8/site-packages/tqdm/auto.py:21: TqdmWarning: IProgress not found. Please update jupyter and ipywidgets. See https://ipywidgets.readthedocs.io/en/stable/user_install.html\n",
      "  from .autonotebook import tqdm as notebook_tqdm\n"
     ]
    }
   ],
   "source": [
    "from transformers import pipeline, GenerationConfig, AutoModelForCausalLM, AutoTokenizer\n",
    "\n",
    "model_name = \"ai-forever/rugpt3large_based_on_gpt2\"\n",
    "checkpoint_path = \"rugpt3large_based_on_gpt2_volk/checkpoints/epochs-3\"\n",
    "device = \"cuda:0\"\n",
    "\n",
    "model = AutoModelForCausalLM.from_pretrained(checkpoint_path)\n",
    "tokenizer = AutoTokenizer.from_pretrained(checkpoint_path)\n",
    "tokenizer.pad_token = tokenizer.eos_token\n",
    "\n",
    "generator = pipeline(\"text-generation\", model=model, tokenizer=tokenizer, device=device)"
   ]
  },
  {
   "cell_type": "code",
   "execution_count": 8,
   "metadata": {},
   "outputs": [],
   "source": [
    "pad_token_kwargs = {\n",
    "    \"pad_token_id\": model.config.eos_token_id,\n",
    "    \"eos_token_id\": model.config.eos_token_id\n",
    "}\n",
    "\n",
    "greedy_generation_config = GenerationConfig(\n",
    "    **pad_token_kwargs\n",
    ")\n",
    "\n",
    "beam_search_generation_config = GenerationConfig(\n",
    "    num_beams=4,\n",
    "    early_stopping=True,\n",
    "    **pad_token_kwargs\n",
    ")\n",
    "\n",
    "top_k_sampling_generation_config = GenerationConfig(\n",
    "    do_sample=True,\n",
    "    top_p=0.95,\n",
    "    top_k=0,\n",
    "    num_return_sequences=3,\n",
    "    **pad_token_kwargs\n",
    ")\n",
    "\n",
    "contrastive_search_generation_config = GenerationConfig(\n",
    "    do_sample=True,\n",
    "    top_k=4,\n",
    "    penalty_alpha=0.6,\n",
    "    num_return_sequences=10,\n",
    "    **pad_token_kwargs\n",
    ")"
   ]
  },
  {
   "cell_type": "code",
   "execution_count": 11,
   "metadata": {},
   "outputs": [],
   "source": [
    "prompts = [\n",
    "    \"мльщик это не волк\",\n",
    "    \"Разница между мльщиком и человеком это\",\n",
    "    \"С баранами общаться -\",\n",
    "    \"Общаться с волками -\",\n",
    "    \"в МФТИ любят\",\n",
    "    \"я бот волк\"\n",
    "]"
   ]
  },
  {
   "cell_type": "code",
   "execution_count": 12,
   "metadata": {},
   "outputs": [
    {
     "data": {
      "text/plain": [
       "[[{'generated_text': 'мльщик это не волк.\\nволк волк волк волк волк волк волк волк волк волк волк'},\n",
       "  {'generated_text': 'мльщик это не волк и не медведь, это человек! \\n Волк, это не только голод'},\n",
       "  {'generated_text': 'мльщик это не волк, а волк это не волк, он не волк, он не волк'},\n",
       "  {'generated_text': 'мльщик это не волк, не собака и не человек. Это человек с собакой. Волк это'},\n",
       "  {'generated_text': 'мльщик это не волк, а собака<s>\\nкакой породы эта собака?\\nдвор'},\n",
       "  {'generated_text': 'мльщик это не волк, это волк - это млинщик, и не просто млин'},\n",
       "  {'generated_text': 'мльщик это не волк. волк это овчарка<s>\\nКакое животное самое преданное'},\n",
       "  {'generated_text': 'мльщик это не волк и не медведь. Волк это волк, медведь это медведь и так до'},\n",
       "  {'generated_text': 'мльщик это не волк, это волк с собакой.<s>\\nКак вы считаете, что такое'},\n",
       "  {'generated_text': 'мльщик это не волк, а волк, это просто собака.\\nВолк - волк,'}],\n",
       " [{'generated_text': 'Разница между мльщиком и человеком это не разница между человеком и муравьем.<s>\\nКак'},\n",
       "  {'generated_text': 'Разница между мльщиком и человеком это не различие в возрасте, это различие в отношении к жизни'},\n",
       "  {'generated_text': 'Разница между мльщиком и человеком это то что он может видеть мир в розовых очках а'},\n",
       "  {'generated_text': 'Разница между мльщиком и человеком это всего лишь разница между двумя видами животных.<s>\\nА'},\n",
       "  {'generated_text': 'Разница между мльщиком и человеком это то, что мльщик не знает, кто он'},\n",
       "  {'generated_text': 'Разница между мльщиком и человеком это не различие между человеком и животным, а различие между человеком'},\n",
       "  {'generated_text': 'Разница между мльщиком и человеком это не разница между человеком и млеком. Разница в'},\n",
       "  {'generated_text': 'Разница между мльщиком и человеком это то, что у мльщика нет мозгов и он'},\n",
       "  {'generated_text': 'Разница между мльщиком и человеком это разница между тем кто не может жить без мльщика'},\n",
       "  {'generated_text': 'Разница между мльщиком и человеком это не различие между человеком и млеющим маком,'}],\n",
       " [{'generated_text': 'С баранами общаться - это как?\\nЭто как с людьми.<s>\\nКак с баранами'},\n",
       "  {'generated_text': 'С баранами общаться - не мешки ворочать.\\nИ в этом, как мне кажется, есть'},\n",
       "  {'generated_text': 'С баранами общаться - это как?\\nс козами<s>\\nс баранами общаться - это'},\n",
       "  {'generated_text': 'С баранами общаться - это как?\\nС баранами общаться, как со скотами. Они'},\n",
       "  {'generated_text': 'С баранами общаться - это все равно, что разговаривать с тигром в лесу. Они не понимают'},\n",
       "  {'generated_text': 'С баранами общаться - это как?\\nЭто не как а почему<s>\\nА если я не'},\n",
       "  {'generated_text': 'С баранами общаться - себе дороже.\\n\\n-\\xa0Я тебя понял!\\xa0- кивнул головой'},\n",
       "  {'generated_text': 'С баранами общаться - не мешки ворочать.\\n\\nВ общем, не знаю, как вам'},\n",
       "  {'generated_text': 'С баранами общаться - это как?\\nс баранами не общаюсь, с ними я ем'},\n",
       "  {'generated_text': 'С баранами общаться - только время тратить.\\n\\n- А ты знаешь, что у тебя нет'}],\n",
       " [{'generated_text': 'Общаться с волками - дело непростое. Но не менее интересное.\\nВолки - умные'},\n",
       "  {'generated_text': 'Общаться с волками - это не только весело. Это еще и полезно.\\n\\nВолки'},\n",
       "  {'generated_text': 'Общаться с волками - это не просто. Это еще и тяжело. И если вы хотите научиться'},\n",
       "  {'generated_text': 'Общаться с волками - не самое приятное дело, но это единственный способ выжить.\\n\\n-'},\n",
       "  {'generated_text': 'Общаться с волками - это не только весело, но и полезно! \\n\\n- А я'},\n",
       "  {'generated_text': 'Общаться с волками - это как?\\nС волком - это когда не можешь не общаться'},\n",
       "  {'generated_text': 'Общаться с волками - это не значит быть волками. Это значит быть человеком и не бояться'},\n",
       "  {'generated_text': 'Общаться с волками - это не для меня.\\n\\nЯ не люблю, когда меня пытаются'},\n",
       "  {'generated_text': 'Общаться с волками - опасно.\\nВолк не человек, он может быть только собакой\\n'},\n",
       "  {'generated_text': 'Общаться с волками - это как с тигром в зоопарке.\\nВолков бояться -'}],\n",
       " [{'generated_text': 'в МФТИ любят и уважают студентов.\\nВ МФТИ есть свой сайт, на'},\n",
       "  {'generated_text': 'в МФТИ любят, когда студенты не боятся трудностей, но в этом году, как и год'},\n",
       "  {'generated_text': 'в МФТИ любят и умеют учиться.\\nНадеюсь и надеюсь на то, что и в'},\n",
       "  {'generated_text': 'в МФТИ любят говорить, что в России не хватает специалистов по физике. Это правда. В'},\n",
       "  {'generated_text': 'в МФТИ любят, чтобы в них учились, а вот в МФТИ учиться не любят'},\n",
       "  {'generated_text': 'в МФТИ любят говорить, что в России нет математики. А вот и нет! Есть!'},\n",
       "  {'generated_text': 'в МФТИ любят, когда у них есть возможность показать себя, показать, что они чего-'},\n",
       "  {'generated_text': 'в МФТИ любят, когда их слушают, поэтому они всегда рады поделиться своими знаниями.\\n'},\n",
       "  {'generated_text': 'в МФТИ любят и умеют учиться)\\nВ этом и состоит их талант.<s>\\nПочему'},\n",
       "  {'generated_text': 'в МФТИ любят.<s>\\nКак вы думаете, почему в нашей стране так популярны математические'}],\n",
       " [{'generated_text': 'я бот волк.\\nБот волк - это бот, который не умеет разговаривать.\\n'},\n",
       "  {'generated_text': 'я бот волкодав,\\nИ в сердце, в душе моей,\\nВсю жизнь'},\n",
       "  {'generated_text': 'я бот волк.\\n\\nВ ответ он только покачал головой.\\n\\n–\\xa0Нет,'},\n",
       "  {'generated_text': 'я бот волк, я не могу, я не могу\\n\\nЯ не могу, я не'},\n",
       "  {'generated_text': 'я бот волк. И что, он не мог бы быть кем-то еще? \\n\\n'},\n",
       "  {'generated_text': 'я бот волкодав\\nБрат волкодав<s>\\nЧто такое бот волкода'},\n",
       "  {'generated_text': 'я бот волк в волке<s>\\nКакие животные живут в вашем городе?\\nВолк'},\n",
       "  {'generated_text': 'я бот волк, и ты, и я…\\n\\nЯ и ты…\\n\\nЯ'},\n",
       "  {'generated_text': 'я бот волк.\\nВ этом мире нет ничего, кроме тебя, и я люблю тебя,'},\n",
       "  {'generated_text': 'я бот волк.<s>\\nЧто это за зверь?\\nВолк.<s>\\nЧто это'}]]"
      ]
     },
     "execution_count": 12,
     "metadata": {},
     "output_type": "execute_result"
    }
   ],
   "source": [
    "generator(prompts, generation_config=contrastive_search_generation_config)"
   ]
  },
  {
   "cell_type": "code",
   "execution_count": null,
   "metadata": {},
   "outputs": [],
   "source": [
    "# for prompt in prompts:\n",
    "#     inputs = tokenizer(prompt, padding=True, truncation=True, max_length=512, return_tensors=\"pt\")\n",
    "#     outputs = model.generate(**inputs, generation_config=generation_config)\n",
    "#     print(tokenizer.batch_decode(outputs, skip_special_tokens=True))"
   ]
  }
 ],
 "metadata": {
  "kernelspec": {
   "display_name": "env",
   "language": "python",
   "name": "python3"
  },
  "language_info": {
   "codemirror_mode": {
    "name": "ipython",
    "version": 3
   },
   "file_extension": ".py",
   "mimetype": "text/x-python",
   "name": "python",
   "nbconvert_exporter": "python",
   "pygments_lexer": "ipython3",
   "version": "3.8.10"
  }
 },
 "nbformat": 4,
 "nbformat_minor": 2
}
