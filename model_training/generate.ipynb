{
 "cells": [
  {
   "cell_type": "code",
   "execution_count": null,
   "metadata": {},
   "outputs": [],
   "source": [
    "import os\n",
    "os.environ[\"CUDA_VISIBLE_DEVICES\"] = \"0\" "
   ]
  },
  {
   "cell_type": "code",
   "execution_count": null,
   "metadata": {},
   "outputs": [],
   "source": [
    "from transformers import pipeline, GenerationConfig, AutoModelForCausalLM, AutoTokenizer\n",
    "\n",
    "model_name = \"ai-forever/rugpt3large_based_on_gpt2\"\n",
    "checkpoint_path = \"rugpt3large_based_on_gpt2_volk/checkpoints/epochs-3\"\n",
    "device = \"cuda:0\"\n",
    "\n",
    "model = AutoModelForCausalLM.from_pretrained(checkpoint_path)\n",
    "tokenizer = AutoTokenizer.from_pretrained(checkpoint_path)\n",
    "tokenizer.pad_token = tokenizer.eos_token\n",
    "\n",
    "generator = pipeline(\"text-generation\", model=model, tokenizer=tokenizer, device=device)"
   ]
  },
  {
   "cell_type": "code",
   "execution_count": null,
   "metadata": {},
   "outputs": [],
   "source": [
    "pad_token_kwargs = {\n",
    "    \"pad_token_id\": model.config.eos_token_id,\n",
    "    \"eos_token_id\": model.config.eos_token_id\n",
    "}\n",
    "\n",
    "greedy_generation_config = GenerationConfig(\n",
    "    **pad_token_kwargs\n",
    ")\n",
    "\n",
    "beam_search_generation_config = GenerationConfig(\n",
    "    num_beams=4,\n",
    "    early_stopping=True,\n",
    "    **pad_token_kwargs\n",
    ")\n",
    "\n",
    "top_k_sampling_generation_config = GenerationConfig(\n",
    "    do_sample=True,\n",
    "    top_p=0.95,\n",
    "    top_k=0,\n",
    "    num_return_sequences=3,\n",
    "    **pad_token_kwargs\n",
    ")\n",
    "\n",
    "contrastive_search_generation_config = GenerationConfig(\n",
    "    do_sample=True,\n",
    "    top_k=4,\n",
    "    penalty_alpha=0.6,\n",
    "    num_return_sequences=10,\n",
    "    **pad_token_kwargs\n",
    ")"
   ]
  },
  {
   "cell_type": "code",
   "execution_count": null,
   "metadata": {},
   "outputs": [],
   "source": [
    "prompts = [\n",
    "    \"мльщик это не волк\",\n",
    "    \"Разница между мльщиком и человеком это\",\n",
    "    \"С баранами общаться -\",\n",
    "    \"Общаться с волками -\",\n",
    "]"
   ]
  },
  {
   "cell_type": "code",
   "execution_count": null,
   "metadata": {},
   "outputs": [],
   "source": [
    "generator(prompts, generation_config=contrastive_search_generation_config)"
   ]
  }
 ],
 "metadata": {
  "kernelspec": {
   "display_name": "env",
   "language": "python",
   "name": "python3"
  },
  "language_info": {
   "codemirror_mode": {
    "name": "ipython",
    "version": 3
   },
   "file_extension": ".py",
   "mimetype": "text/x-python",
   "name": "python",
   "nbconvert_exporter": "python",
   "pygments_lexer": "ipython3",
   "version": "3.8.18"
  }
 },
 "nbformat": 4,
 "nbformat_minor": 2
}
